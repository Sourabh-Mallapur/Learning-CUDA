{
  "nbformat": 4,
  "nbformat_minor": 0,
  "metadata": {
    "colab": {
      "provenance": [],
      "gpuType": "T4"
    },
    "kernelspec": {
      "name": "python3",
      "display_name": "Python 3"
    },
    "language_info": {
      "name": "python"
    },
    "accelerator": "GPU"
  },
  "cells": [
    {
      "cell_type": "markdown",
      "source": [
        "## CUDA with CuPy"
      ],
      "metadata": {
        "id": "Q5L0_NRgh8pP"
      }
    },
    {
      "cell_type": "code",
      "execution_count": 2,
      "metadata": {
        "id": "0DT1Ig0Eh2LM"
      },
      "outputs": [],
      "source": [
        "import numpy as np\n",
        "import cupy as cp"
      ]
    },
    {
      "cell_type": "markdown",
      "source": [
        "#### Create numpy like array on host and device"
      ],
      "metadata": {
        "id": "_9wAyzEfh8zR"
      }
    },
    {
      "cell_type": "code",
      "source": [
        "# array on host memory\n",
        "x_host = np.array([1,2,3])\n",
        "type(x_host)"
      ],
      "metadata": {
        "colab": {
          "base_uri": "https://localhost:8080/"
        },
        "id": "AvGwZnx-iGEi",
        "outputId": "5b2dfe85-0fa4-4f0d-d78c-a07bf0b10d4d"
      },
      "execution_count": null,
      "outputs": [
        {
          "output_type": "execute_result",
          "data": {
            "text/plain": [
              "numpy.ndarray"
            ]
          },
          "metadata": {},
          "execution_count": 2
        }
      ]
    },
    {
      "cell_type": "code",
      "source": [
        "# array on device memory\n",
        "x_device = cp.array([1,2,3])\n",
        "type(x_device)"
      ],
      "metadata": {
        "colab": {
          "base_uri": "https://localhost:8080/"
        },
        "id": "ijvBuXjkiJOr",
        "outputId": "a6defb93-9c98-435c-da59-5f4f53aea9f8"
      },
      "execution_count": null,
      "outputs": [
        {
          "output_type": "execute_result",
          "data": {
            "text/plain": [
              "cupy.ndarray"
            ]
          },
          "metadata": {},
          "execution_count": 3
        }
      ]
    },
    {
      "cell_type": "markdown",
      "source": [
        "## Norm operation on CPU and GPU\n",
        " (CPU is much Faster for smaller Array sizes due to faster single thread preformance and memory interconnect overheads between GPU and host)"
      ],
      "metadata": {
        "id": "vVVyUh0IjNz3"
      }
    },
    {
      "cell_type": "code",
      "source": [
        "%%timeit\n",
        "np.linalg.norm(x_host)"
      ],
      "metadata": {
        "id": "QC2tWdPKjNLN"
      },
      "execution_count": null,
      "outputs": []
    },
    {
      "cell_type": "code",
      "source": [
        "%%timeit\n",
        "cp.linalg.norm(x_device)"
      ],
      "metadata": {
        "id": "sOe_c0KwjFm2"
      },
      "execution_count": null,
      "outputs": []
    },
    {
      "cell_type": "markdown",
      "source": [
        "## To select which Device to run on"
      ],
      "metadata": {
        "id": "abf-D3EAlvZY"
      }
    },
    {
      "cell_type": "code",
      "source": [
        "with  cp.cuda.Device(0):\n",
        "  x_on_device_0 = cp.array([1,2,3])\n",
        "  print(x_on_device_0)"
      ],
      "metadata": {
        "id": "WsPBeJNnjDWs"
      },
      "execution_count": null,
      "outputs": []
    },
    {
      "cell_type": "markdown",
      "source": [
        "## Transfer data between Host and Device"
      ],
      "metadata": {
        "id": "4-Vqmjq1l9Km"
      }
    },
    {
      "cell_type": "code",
      "source": [
        "# create numpy array on host\n",
        "x_host = np.random.randint(0,255,(1000,1000))"
      ],
      "metadata": {
        "id": "FCovprvQmBT8"
      },
      "execution_count": null,
      "outputs": []
    },
    {
      "cell_type": "code",
      "source": [
        "# Transfer numpy array to device\n",
        "x_device = cp.asarray(x_host)"
      ],
      "metadata": {
        "id": "H5D-Iol9mvbV"
      },
      "execution_count": null,
      "outputs": []
    },
    {
      "cell_type": "code",
      "source": [
        "# Transfer cupy array from device to array\n",
        "x_host  = x_device.get()"
      ],
      "metadata": {
        "id": "HZN_dWLZmySQ"
      },
      "execution_count": null,
      "outputs": []
    },
    {
      "cell_type": "markdown",
      "source": [
        "## Compute FFT\n",
        "creating a large array in python, then applying FFT on it"
      ],
      "metadata": {
        "id": "S1YH3rV1njtB"
      }
    },
    {
      "cell_type": "code",
      "source": [
        "from scipy.fft import fftn"
      ],
      "metadata": {
        "id": "tV0-_f9-nlqH"
      },
      "execution_count": null,
      "outputs": []
    },
    {
      "cell_type": "code",
      "source": [
        "%%timeit\n",
        "fftn(x_host)"
      ],
      "metadata": {
        "id": "X74-bvdjoDUw"
      },
      "execution_count": null,
      "outputs": []
    },
    {
      "cell_type": "markdown",
      "source": [
        "Now with GPU"
      ],
      "metadata": {
        "id": "93VoGCb-scJF"
      }
    },
    {
      "cell_type": "code",
      "source": [
        "import cupyx"
      ],
      "metadata": {
        "id": "pyOOi_zPnteY"
      },
      "execution_count": null,
      "outputs": []
    },
    {
      "cell_type": "code",
      "source": [
        "%%timeit\n",
        "cupyx.scipy.fft.fftn(x_device)"
      ],
      "metadata": {
        "colab": {
          "base_uri": "https://localhost:8080/"
        },
        "id": "buy3ZuXQoHsq",
        "outputId": "b7ee0e97-93e3-4a9d-8305-a2c5beb8d6f9"
      },
      "execution_count": null,
      "outputs": [
        {
          "output_type": "stream",
          "name": "stdout",
          "text": [
            "1.23 ms ± 4.61 µs per loop (mean ± std. dev. of 7 runs, 1000 loops each)\n"
          ]
        }
      ]
    },
    {
      "cell_type": "markdown",
      "source": [
        "## Sorting an array\n",
        "creating a large array in python, then sorting it with the sort() function of NumPy on the CPU.\n"
      ],
      "metadata": {
        "id": "xAd82vMap1E_"
      }
    },
    {
      "cell_type": "code",
      "source": [
        "size = 8192 * 8192\n",
        "array = np.random.random(size).astype(np.float32)\n",
        "\n",
        "%timeit result = np.sort(array)"
      ],
      "metadata": {
        "colab": {
          "base_uri": "https://localhost:8080/"
        },
        "id": "HWMILxBsqDbl",
        "outputId": "47779a06-b1a4-485d-9078-8df9aceb88c6"
      },
      "execution_count": null,
      "outputs": [
        {
          "output_type": "stream",
          "name": "stdout",
          "text": [
            "1.07 s ± 108 ms per loop (mean ± std. dev. of 7 runs, 1 loop each)\n"
          ]
        }
      ]
    },
    {
      "cell_type": "markdown",
      "source": [
        "let’s perform the same sorting, but this time on a GPU. We will be using the sort() function from CuPy\n"
      ],
      "metadata": {
        "id": "PJ9q2gA3qTei"
      }
    },
    {
      "cell_type": "code",
      "source": [
        "array_gpu = cp.asarray(array)\n",
        "%timeit result_gpu = cp.sort(array_gpu)"
      ],
      "metadata": {
        "colab": {
          "base_uri": "https://localhost:8080/"
        },
        "id": "_MZZm8GbpxSv",
        "outputId": "799ddd77-0e69-4b70-eedc-09d46529c216"
      },
      "execution_count": null,
      "outputs": [
        {
          "output_type": "stream",
          "name": "stdout",
          "text": [
            "34.6 ms ± 4.66 ms per loop (mean ± std. dev. of 7 runs, 1 loop each)\n"
          ]
        }
      ]
    },
    {
      "cell_type": "markdown",
      "source": [
        "# CUDA with Numba"
      ],
      "metadata": {
        "id": "YhubBud2vmu8"
      }
    },
    {
      "cell_type": "code",
      "source": [
        "from numba import cuda\n",
        "import numpy as np\n",
        "import math"
      ],
      "metadata": {
        "id": "sI6H3242vvw6"
      },
      "execution_count": 3,
      "outputs": []
    },
    {
      "cell_type": "code",
      "source": [
        "x_host = np.ones(shape=(28932))"
      ],
      "metadata": {
        "id": "G3lBTUUVwPYN"
      },
      "execution_count": null,
      "outputs": []
    },
    {
      "cell_type": "code",
      "source": [
        "def host_incrementByOne(array):\n",
        "    for i in range(len(array)):\n",
        "      array[i] += 1"
      ],
      "metadata": {
        "id": "Z1h29PGYwdK7"
      },
      "execution_count": null,
      "outputs": []
    },
    {
      "cell_type": "code",
      "source": [
        "%%timeit\n",
        "host_incrementByOne(x_host)"
      ],
      "metadata": {
        "colab": {
          "base_uri": "https://localhost:8080/"
        },
        "id": "wnjSbR_Fwjc-",
        "outputId": "1767870a-cc86-4d8b-a16b-e030dbffb06f"
      },
      "execution_count": null,
      "outputs": [
        {
          "output_type": "stream",
          "name": "stdout",
          "text": [
            "8.59 ms ± 2.37 ms per loop (mean ± std. dev. of 7 runs, 100 loops each)\n"
          ]
        }
      ]
    },
    {
      "cell_type": "markdown",
      "source": [
        "Cuda Thread\n",
        "![image.png](data:image/png;base64,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)"
      ],
      "metadata": {
        "id": "6Iro1KmHx9jj"
      }
    },
    {
      "cell_type": "code",
      "source": [
        "@cuda.jit\n",
        "def device_incrementByOne(array):\n",
        "  # thread id in a 1D block\n",
        "  tx = cuda.threadIdx.x\n",
        "  # block id in a 1D grid\n",
        "  ty = cuda.blockIdx.x\n",
        "  # block width, i.e. the number of threads per block\n",
        "  bw = cuda.blockDim.x\n",
        "  # compute flattened index inside array\n",
        "  pos = tx + ty * bw\n",
        "  if pos < array.size:  # check array boundaries\n",
        "    array[pos] += 1"
      ],
      "metadata": {
        "id": "WBIvXay1x9HP"
      },
      "execution_count": null,
      "outputs": []
    },
    {
      "cell_type": "code",
      "source": [
        "x_host = np.ones(shape=(28932))\n",
        "x_device = cuda.to_device(x_host)\n",
        "threadsperblock = 256\n",
        "blockspergrid = (x_device.size + (threadsperblock - 1)) // threadsperblock"
      ],
      "metadata": {
        "id": "jITwmsd5dFFj"
      },
      "execution_count": null,
      "outputs": []
    },
    {
      "cell_type": "code",
      "source": [
        "%%timeit\n",
        "device_incrementByOne[blockspergrid, threadsperblock](x_device)"
      ],
      "metadata": {
        "colab": {
          "base_uri": "https://localhost:8080/"
        },
        "id": "WOrqxW5VdqS5",
        "outputId": "a0e628d5-bd2d-48d8-cf02-95f0e58a185b"
      },
      "execution_count": null,
      "outputs": [
        {
          "output_type": "stream",
          "name": "stderr",
          "text": [
            "/usr/local/lib/python3.10/dist-packages/numba/cuda/dispatcher.py:536: NumbaPerformanceWarning: Grid size 114 will likely result in GPU under-utilization due to low occupancy.\n",
            "  warn(NumbaPerformanceWarning(msg))\n"
          ]
        },
        {
          "output_type": "stream",
          "name": "stdout",
          "text": [
            "43.1 µs ± 9.48 µs per loop (mean ± std. dev. of 7 runs, 10000 loops each)\n"
          ]
        }
      ]
    },
    {
      "cell_type": "code",
      "source": [
        "@cuda.jit\n",
        "def device_incrementByOne(array):\n",
        "  pos = cuda.grid(1)\n",
        "  if pos < array.size:  # check array boundaries\n",
        "    array[pos] += 1"
      ],
      "metadata": {
        "id": "4ECLDgukfxiP"
      },
      "execution_count": null,
      "outputs": []
    },
    {
      "cell_type": "code",
      "source": [
        "x_device.copy_to_host()"
      ],
      "metadata": {
        "colab": {
          "base_uri": "https://localhost:8080/"
        },
        "id": "7YkKIgz_f8CH",
        "outputId": "b0675219-373c-409f-b389-a724c2937d71"
      },
      "execution_count": null,
      "outputs": [
        {
          "output_type": "execute_result",
          "data": {
            "text/plain": [
              "array([243342., 243342., 243342., ..., 243342., 243342., 243342.])"
            ]
          },
          "metadata": {},
          "execution_count": 30
        }
      ]
    },
    {
      "cell_type": "markdown",
      "source": [
        "Example with 2 Dimensional Data"
      ],
      "metadata": {
        "id": "YBiUqMmyglfw"
      }
    },
    {
      "cell_type": "code",
      "source": [
        "x_device = cuda.to_device(np.ones(shape=(256,256)))"
      ],
      "metadata": {
        "id": "8xt9fh0Egp03"
      },
      "execution_count": 4,
      "outputs": []
    },
    {
      "cell_type": "code",
      "source": [
        "@cuda.jit\n",
        "def deviceIncrement2D(array):\n",
        "  x,y = cuda.grid(2)\n",
        "  if x < array.shape[0] and y < array.shape[1]:\n",
        "    array[x,y] += 1\n"
      ],
      "metadata": {
        "id": "v7EiRdtsh9mO"
      },
      "execution_count": 10,
      "outputs": []
    },
    {
      "cell_type": "code",
      "source": [
        "threadsperblock = (16,16)\n",
        "blockspergrid_x = math.ceil(x_device.shape[0]/threadsperblock[0])\n",
        "blockspergrid_y = math.ceil(x_device.shape[1]/threadsperblock[1])\n",
        "blockspergrid = (blockspergrid_x,blockspergrid_y)\n"
      ],
      "metadata": {
        "id": "bx9aIeTUilQz"
      },
      "execution_count": 11,
      "outputs": []
    },
    {
      "cell_type": "code",
      "source": [
        "%%timeit\n",
        "deviceIncrement2D[blockspergrid,threadsperblock](x_device)\n"
      ],
      "metadata": {
        "colab": {
          "base_uri": "https://localhost:8080/"
        },
        "id": "g4MyrCAnjWrk",
        "outputId": "fc9c7016-f25b-41fb-8d00-61d0df324383"
      },
      "execution_count": 12,
      "outputs": [
        {
          "output_type": "stream",
          "name": "stdout",
          "text": [
            "235 µs ± 10.2 µs per loop (mean ± std. dev. of 7 runs, 1000 loops each)\n"
          ]
        }
      ]
    },
    {
      "cell_type": "markdown",
      "source": [
        "We can use cupy arrays as well"
      ],
      "metadata": {
        "id": "dtrXn4emkPzZ"
      }
    },
    {
      "cell_type": "code",
      "source": [
        "import cupy as cp\n",
        "x_device = cp.ones(shape = (256,256))\n",
        "deviceIncrement2D[blockspergrid, threadsperblock](x_device)"
      ],
      "metadata": {
        "id": "02QdK68rjw4z"
      },
      "execution_count": 14,
      "outputs": []
    },
    {
      "cell_type": "code",
      "source": [
        "print(type(x_device))\n",
        "x_device"
      ],
      "metadata": {
        "colab": {
          "base_uri": "https://localhost:8080/"
        },
        "id": "g5cnJsNukxT6",
        "outputId": "d88da51b-5f4d-4d80-be2f-5b9506739c51"
      },
      "execution_count": 15,
      "outputs": [
        {
          "output_type": "stream",
          "name": "stdout",
          "text": [
            "<class 'cupy.ndarray'>\n"
          ]
        },
        {
          "output_type": "execute_result",
          "data": {
            "text/plain": [
              "array([[2., 2., 2., ..., 2., 2., 2.],\n",
              "       [2., 2., 2., ..., 2., 2., 2.],\n",
              "       [2., 2., 2., ..., 2., 2., 2.],\n",
              "       ...,\n",
              "       [2., 2., 2., ..., 2., 2., 2.],\n",
              "       [2., 2., 2., ..., 2., 2., 2.],\n",
              "       [2., 2., 2., ..., 2., 2., 2.]])"
            ]
          },
          "metadata": {},
          "execution_count": 15
        }
      ]
    },
    {
      "cell_type": "markdown",
      "source": [
        "## Vector Addition"
      ],
      "metadata": {
        "id": "H3jk_e-glBbr"
      }
    },
    {
      "cell_type": "code",
      "source": [
        "import numpy as np\n",
        "from numba import cuda, float32\n",
        "import math"
      ],
      "metadata": {
        "id": "zNb22tbzk3DD"
      },
      "execution_count": 3,
      "outputs": []
    },
    {
      "cell_type": "code",
      "source": [
        "@cuda.jit\n",
        "def f(a,b,c):\n",
        "  pos = cuda.grid(1)\n",
        "  size = len(c)\n",
        "  if pos < size:\n",
        "    c[pos] = a[pos] + b[pos]"
      ],
      "metadata": {
        "id": "y_6M0h_UlK7u"
      },
      "execution_count": 18,
      "outputs": []
    },
    {
      "cell_type": "code",
      "source": [
        "N = 1000000\n",
        "a = cuda.to_device(np.random.random(N))\n",
        "b = cuda.to_device(np.random.random(N))\n",
        "c = cuda.device_array_like(a)"
      ],
      "metadata": {
        "id": "awUOGGLFlfiw"
      },
      "execution_count": 16,
      "outputs": []
    },
    {
      "cell_type": "markdown",
      "source": [
        "forall() crates 1D grid for a given data size"
      ],
      "metadata": {
        "id": "9AzKGmwClvok"
      }
    },
    {
      "cell_type": "code",
      "source": [
        "f.forall(len(a))(a,b,c)\n",
        "c.copy_to_host()"
      ],
      "metadata": {
        "colab": {
          "base_uri": "https://localhost:8080/"
        },
        "id": "fqgkcwLRmI2r",
        "outputId": "54f8a4e5-4535-4687-b43c-b16a1b607920"
      },
      "execution_count": 22,
      "outputs": [
        {
          "output_type": "execute_result",
          "data": {
            "text/plain": [
              "array([1.85478028, 0.8784233 , 0.82167347, ..., 1.02163368, 1.78232699,\n",
              "       0.52496273])"
            ]
          },
          "metadata": {},
          "execution_count": 22
        }
      ]
    },
    {
      "cell_type": "code",
      "source": [
        "nthreads = 256\n",
        "nblocks = (len(a) // nthreads) + 1\n",
        "f[nblocks, nthreads](a,b,c)\n",
        "c.copy_to_host()"
      ],
      "metadata": {
        "colab": {
          "base_uri": "https://localhost:8080/"
        },
        "id": "knNJh_Ydmj5H",
        "outputId": "7f4da4b4-dd07-4984-ba07-aaa2c102536f"
      },
      "execution_count": 23,
      "outputs": [
        {
          "output_type": "execute_result",
          "data": {
            "text/plain": [
              "array([1.85478028, 0.8784233 , 0.82167347, ..., 1.02163368, 1.78232699,\n",
              "       0.52496273])"
            ]
          },
          "metadata": {},
          "execution_count": 23
        }
      ]
    },
    {
      "cell_type": "markdown",
      "source": [
        "Matrix Multiplication"
      ],
      "metadata": {
        "id": "PrZ7HYFCm9AF"
      }
    },
    {
      "cell_type": "code",
      "source": [
        "@cuda.jit\n",
        "def matmul (A, B, C):\n",
        "  # Perform square matrix multiplication of C = A * B\n",
        "  i, j = cuda.grid(2)\n",
        "  if i < C.shape[0] and j < C.shape[1]:\n",
        "    tmp = 0.\n",
        "    for k in range(A.shape[1]):\n",
        "      tmp + A[i, k] * B[k, j]\n",
        "    C[i, j] = tmp\n",
        "\n",
        "x_h = np.arange(16).reshape([4, 4])\n",
        "y_h = np.ones([4, 4])\n",
        "z_h = np.zeros([4, 4])\n",
        "\n",
        "x_d = cuda.to_device(x_h)\n",
        "y_d = cuda.to_device(y_h)\n",
        "z_d = cuda.to_device(z_h)"
      ],
      "metadata": {
        "id": "AAgziKhCm_xY"
      },
      "execution_count": 4,
      "outputs": []
    },
    {
      "cell_type": "code",
      "source": [
        "threadsperblock = (16, 16)\n",
        "blockspergrid_x = math.ceil(z_h.shape[0] / threadsperblock[0])\n",
        "blockspergrid_y = math.ceil(z_h.shape[1] / threadsperblock [1])\n",
        "blockspergrid = (blockspergrid_x, blockspergrid_y)\n",
        "\n",
        "matmul[blockspergrid, threadsperblock](x_d, y_d, z_d)\n",
        "z_h = z_d.copy_to_host()"
      ],
      "metadata": {
        "colab": {
          "base_uri": "https://localhost:8080/",
          "height": 211
        },
        "id": "uN_Q4WtS9KvW",
        "outputId": "bc979a7b-f172-4548-953d-d383fb9a7869"
      },
      "execution_count": 2,
      "outputs": [
        {
          "output_type": "error",
          "ename": "NameError",
          "evalue": "name 'math' is not defined",
          "traceback": [
            "\u001b[0;31m---------------------------------------------------------------------------\u001b[0m",
            "\u001b[0;31mNameError\u001b[0m                                 Traceback (most recent call last)",
            "\u001b[0;32m<ipython-input-2-846fb6353223>\u001b[0m in \u001b[0;36m<cell line: 2>\u001b[0;34m()\u001b[0m\n\u001b[1;32m      1\u001b[0m \u001b[0mthreadsperblock\u001b[0m \u001b[0;34m=\u001b[0m \u001b[0;34m(\u001b[0m\u001b[0;36m16\u001b[0m\u001b[0;34m,\u001b[0m \u001b[0;36m16\u001b[0m\u001b[0;34m)\u001b[0m\u001b[0;34m\u001b[0m\u001b[0;34m\u001b[0m\u001b[0m\n\u001b[0;32m----> 2\u001b[0;31m \u001b[0mblockspergrid_x\u001b[0m \u001b[0;34m=\u001b[0m \u001b[0mmath\u001b[0m\u001b[0;34m.\u001b[0m\u001b[0mceil\u001b[0m\u001b[0;34m(\u001b[0m\u001b[0mz_h\u001b[0m\u001b[0;34m.\u001b[0m\u001b[0mshape\u001b[0m\u001b[0;34m[\u001b[0m\u001b[0;36m0\u001b[0m\u001b[0;34m]\u001b[0m \u001b[0;34m/\u001b[0m \u001b[0mthreadsperblock\u001b[0m\u001b[0;34m[\u001b[0m\u001b[0;36m0\u001b[0m\u001b[0;34m]\u001b[0m\u001b[0;34m)\u001b[0m\u001b[0;34m\u001b[0m\u001b[0;34m\u001b[0m\u001b[0m\n\u001b[0m\u001b[1;32m      3\u001b[0m \u001b[0mblockspergrid_y\u001b[0m \u001b[0;34m=\u001b[0m \u001b[0mmath\u001b[0m\u001b[0;34m.\u001b[0m\u001b[0mceil\u001b[0m\u001b[0;34m(\u001b[0m\u001b[0mz_h\u001b[0m\u001b[0;34m.\u001b[0m\u001b[0mshape\u001b[0m\u001b[0;34m[\u001b[0m\u001b[0;36m1\u001b[0m\u001b[0;34m]\u001b[0m \u001b[0;34m/\u001b[0m \u001b[0mthreadsperblock\u001b[0m \u001b[0;34m[\u001b[0m\u001b[0;36m1\u001b[0m\u001b[0;34m]\u001b[0m\u001b[0;34m)\u001b[0m\u001b[0;34m\u001b[0m\u001b[0;34m\u001b[0m\u001b[0m\n\u001b[1;32m      4\u001b[0m \u001b[0mblockspergrid\u001b[0m \u001b[0;34m=\u001b[0m \u001b[0;34m(\u001b[0m\u001b[0mblockspergrid_x\u001b[0m\u001b[0;34m,\u001b[0m \u001b[0mblockspergrid_y\u001b[0m\u001b[0;34m)\u001b[0m\u001b[0;34m\u001b[0m\u001b[0;34m\u001b[0m\u001b[0m\n\u001b[1;32m      5\u001b[0m \u001b[0;34m\u001b[0m\u001b[0m\n",
            "\u001b[0;31mNameError\u001b[0m: name 'math' is not defined"
          ]
        }
      ]
    },
    {
      "cell_type": "markdown",
      "source": [
        "Better MAtrix Multiplication with Shared Memory"
      ],
      "metadata": {
        "id": "byoIFVYBBjJr"
      }
    },
    {
      "cell_type": "code",
      "source": [
        "TPB = 16 # threads per block\n",
        "@cuda.jit\n",
        "def fast_matmul (A, B, C):\n",
        "  # Define an array in the shared memory\n",
        "  # The size and type of the arrays must be known at compile time\n",
        "  sA = cuda.shared.array(shape=(TPB, TPB), dtype=float32)\n",
        "  sB = cuda.shared.array(shape=(TPB, TPB), dtype=float32)\n",
        "  x, y = cuda.grid(2)\n",
        "  tx = cuda.threadIdx.x\n",
        "  ty = cuda.threadIdx.y\n",
        "  bpg = cuda.gridDim.x\n",
        "\n",
        "  # Each thread computes one element in the result matrix.\n",
        "  # The dot product is chunked into dot products of TPB-long vectors.\n",
        "  tmp = float32(0.)\n",
        "  for i in range(bpg):\n",
        "    # Preload data into shared memory\n",
        "    sA[ty, tx] = 0\n",
        "    sB[ty, tx] = 0\n",
        "    if y<A.shape[0] and (tx + i * TPB) < A.shape[1]:\n",
        "      sA[ty, tx] = A[y, tx + i * TPB]\n",
        "    if x < B.shape[1] and (ty + i * TPB) < B.shape[0]:\n",
        "      sB[ty, tx] = B[ty + i * TPB, x]\n",
        "\n",
        "    # Wait until all threads finish preloading\n",
        "    cuda.syncthreads()\n",
        "\n",
        "    # Computes partialp product on the shared memory\n",
        "    for j in range(TPB):\n",
        "      tmp += sA[ty, j] * sB[j, tx]\n",
        "\n",
        "    # Wait until all threads finish computing\n",
        "    cuda.syncthreads()\n",
        "  if y < C.shape[0] and x < C.shape[1]:\n",
        "    C[y,x] = tmp"
      ],
      "metadata": {
        "colab": {
          "base_uri": "https://localhost:8080/",
          "height": 211
        },
        "id": "HxF_SShABRf9",
        "outputId": "139d224b-9c8c-4c7d-8d7a-ae462a83fc92"
      },
      "execution_count": 5,
      "outputs": [
        {
          "output_type": "error",
          "ename": "NameError",
          "evalue": "name 'cuda' is not defined",
          "traceback": [
            "\u001b[0;31m---------------------------------------------------------------------------\u001b[0m",
            "\u001b[0;31mNameError\u001b[0m                                 Traceback (most recent call last)",
            "\u001b[0;32m<ipython-input-5-f54f4eb0ef68>\u001b[0m in \u001b[0;36m<cell line: 2>\u001b[0;34m()\u001b[0m\n\u001b[1;32m      1\u001b[0m \u001b[0mTPB\u001b[0m \u001b[0;34m=\u001b[0m \u001b[0;36m16\u001b[0m \u001b[0;31m# threads per block\u001b[0m\u001b[0;34m\u001b[0m\u001b[0;34m\u001b[0m\u001b[0m\n\u001b[0;32m----> 2\u001b[0;31m \u001b[0;34m@\u001b[0m\u001b[0mcuda\u001b[0m\u001b[0;34m.\u001b[0m\u001b[0mjit\u001b[0m\u001b[0;34m\u001b[0m\u001b[0;34m\u001b[0m\u001b[0m\n\u001b[0m\u001b[1;32m      3\u001b[0m \u001b[0;32mdef\u001b[0m \u001b[0mfast_matmul\u001b[0m \u001b[0;34m(\u001b[0m\u001b[0mA\u001b[0m\u001b[0;34m,\u001b[0m \u001b[0mB\u001b[0m\u001b[0;34m,\u001b[0m \u001b[0mC\u001b[0m\u001b[0;34m)\u001b[0m\u001b[0;34m:\u001b[0m\u001b[0;34m\u001b[0m\u001b[0;34m\u001b[0m\u001b[0m\n\u001b[1;32m      4\u001b[0m   \u001b[0;31m# Define an array in the shared memory\u001b[0m\u001b[0;34m\u001b[0m\u001b[0;34m\u001b[0m\u001b[0m\n\u001b[1;32m      5\u001b[0m   \u001b[0;31m# The size and type of the arrays must be known at compile time\u001b[0m\u001b[0;34m\u001b[0m\u001b[0;34m\u001b[0m\u001b[0m\n",
            "\u001b[0;31mNameError\u001b[0m: name 'cuda' is not defined"
          ]
        }
      ]
    },
    {
      "cell_type": "code",
      "source": [],
      "metadata": {
        "id": "0cEPucXXCRPf"
      },
      "execution_count": null,
      "outputs": []
    }
  ]
}