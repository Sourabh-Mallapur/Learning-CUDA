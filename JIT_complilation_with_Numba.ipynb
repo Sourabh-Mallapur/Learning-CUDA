{
  "nbformat": 4,
  "nbformat_minor": 0,
  "metadata": {
    "colab": {
      "provenance": []
    },
    "kernelspec": {
      "name": "python3",
      "display_name": "Python 3"
    },
    "language_info": {
      "name": "python"
    }
  },
  "cells": [
    {
      "cell_type": "markdown",
      "source": [
        "JIT (Just-in-time) compilation on CPU with Numba"
      ],
      "metadata": {
        "id": "R_V99ooDFaWl"
      }
    },
    {
      "cell_type": "code",
      "execution_count": 1,
      "metadata": {
        "id": "-RWlG1UGFVEg"
      },
      "outputs": [],
      "source": [
        "import numpy as np\n",
        "from numba import jit, vectorize"
      ]
    },
    {
      "cell_type": "code",
      "source": [
        "x = np.random.randint(0,255, size = (2000))"
      ],
      "metadata": {
        "id": "BaXPSbMpF29o"
      },
      "execution_count": 2,
      "outputs": []
    },
    {
      "cell_type": "markdown",
      "source": [
        "### Try These 3 Codeblocks"
      ],
      "metadata": {
        "id": "3owpY2yHH9qk"
      }
    },
    {
      "cell_type": "code",
      "source": [
        "@jit\n",
        "def oddeven(arr):\n",
        "  output = np.empty_like(arr)\n",
        "  for i in range(len(arr)):\n",
        "    if (arr[i] % 2 == 0):\n",
        "      output[i] = 0\n",
        "    else:\n",
        "      output[i] = \"1\"\n",
        "  return output"
      ],
      "metadata": {
        "id": "SXDijnOEGC29",
        "colab": {
          "base_uri": "https://localhost:8080/"
        },
        "outputId": "4dadb543-5b5b-442e-f42e-aa576ac32324"
      },
      "execution_count": 3,
      "outputs": [
        {
          "output_type": "stream",
          "name": "stderr",
          "text": [
            "<ipython-input-3-158646402cd6>:2: NumbaDeprecationWarning: The 'nopython' keyword argument was not supplied to the 'numba.jit' decorator. The implicit default value for this argument is currently False, but it will be changed to True in Numba 0.59.0. See https://numba.readthedocs.io/en/stable/reference/deprecation.html#deprecation-of-object-mode-fall-back-behaviour-when-using-jit for details.\n",
            "  def oddeven(arr):\n"
          ]
        }
      ]
    },
    {
      "cell_type": "code",
      "source": [
        "@jit(nopython=True)\n",
        "def oddeven(arr):\n",
        "  output = np.empty_like(arr)\n",
        "  for i in range(len(arr)):\n",
        "    if (arr[i] % 2 == 0):\n",
        "      output[i] = 0\n",
        "    else:\n",
        "      output[i] = \"1\"\n",
        "  return output"
      ],
      "metadata": {
        "id": "eUeGr2clIFZ-"
      },
      "execution_count": 4,
      "outputs": []
    },
    {
      "cell_type": "code",
      "source": [
        "@jit(nopython=True)\n",
        "def oddeven(arr):\n",
        "  output = np.empty_like(arr)\n",
        "  for i in range(len(arr)):\n",
        "    if (arr[i] % 2 == 0):\n",
        "      output[i] = 0\n",
        "    else:\n",
        "      output[i] = 1\n",
        "  return output"
      ],
      "metadata": {
        "id": "Dy3Mp0QSIJeO"
      },
      "execution_count": 5,
      "outputs": []
    },
    {
      "cell_type": "code",
      "source": [
        "%%timeit\n",
        "oddeven(x)"
      ],
      "metadata": {
        "colab": {
          "base_uri": "https://localhost:8080/"
        },
        "id": "YJZlWQ-4GP7H",
        "outputId": "8767f5a7-f970-4e48-ae7b-c2b647326850"
      },
      "execution_count": 6,
      "outputs": [
        {
          "output_type": "stream",
          "name": "stdout",
          "text": [
            "The slowest run took 30.43 times longer than the fastest. This could mean that an intermediate result is being cached.\n",
            "14.5 µs ± 27.6 µs per loop (mean ± std. dev. of 7 runs, 1 loop each)\n"
          ]
        }
      ]
    },
    {
      "cell_type": "markdown",
      "source": [
        "Lists are slower"
      ],
      "metadata": {
        "id": "GYZV_hOmJEF_"
      }
    },
    {
      "cell_type": "code",
      "source": [
        "@jit(nopython=True)\n",
        "def oddeven(arr):\n",
        "  output = []\n",
        "  for i in range(len(arr)):\n",
        "    if (arr[i] % 2 == 0):\n",
        "      output.append(0)\n",
        "    else:\n",
        "      output.append(1)\n",
        "  return output"
      ],
      "metadata": {
        "id": "sXnnpvuXJG_e"
      },
      "execution_count": 7,
      "outputs": []
    },
    {
      "cell_type": "markdown",
      "source": [
        "Vectorize Example"
      ],
      "metadata": {
        "id": "a5Hx8LEJJS-f"
      }
    },
    {
      "cell_type": "code",
      "source": [
        "@vectorize(nopython=True)\n",
        "def func_vectorize(num):\n",
        "    if (num%2 == 0):\n",
        "        return 0\n",
        "    else:\n",
        "        return 1"
      ],
      "metadata": {
        "id": "iXiVSVq_JDym"
      },
      "execution_count": 8,
      "outputs": []
    },
    {
      "cell_type": "code",
      "source": [
        "%%timeit\n",
        "func_vectorize(x)"
      ],
      "metadata": {
        "colab": {
          "base_uri": "https://localhost:8080/"
        },
        "id": "lqjkqg-eJb8I",
        "outputId": "f529348d-977f-4d8e-9904-b5a08fa52e2a"
      },
      "execution_count": 9,
      "outputs": [
        {
          "output_type": "stream",
          "name": "stdout",
          "text": [
            "The slowest run took 353.87 times longer than the fastest. This could mean that an intermediate result is being cached.\n",
            "231 µs ± 511 µs per loop (mean ± std. dev. of 7 runs, 1 loop each)\n"
          ]
        }
      ]
    }
  ]
}